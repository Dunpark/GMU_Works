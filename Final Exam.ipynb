{
 "cells": [
  {
   "cell_type": "markdown",
   "id": "7a523049",
   "metadata": {},
   "source": [
    "Question #01"
   ]
  },
  {
   "cell_type": "markdown",
   "id": "d0d8c702",
   "metadata": {},
   "source": [
    "Create a 20 x 20 matrix of all ones. Place the following matrix in the bottom right corner of the matrix: [7,6,8,9,4,2;8,6,1,8,3;8,4,9,3,5,6;0,8,7,6,3;8,6,9,2,4;9,8,5,3,4,9]."
   ]
  },
  {
   "cell_type": "markdown",
   "id": "ddfd20f0",
   "metadata": {},
   "source": [
    "Answer #01"
   ]
  },
  {
   "cell_type": "code",
   "execution_count": 52,
   "id": "73cb0f6c",
   "metadata": {},
   "outputs": [
    {
     "data": {
      "text/plain": [
       "array([[1., 1., 1., 1., 1., 1., 1., 1., 1., 1., 1., 1., 1., 1., 1., 1.,\n",
       "        1., 1., 1., 1.],\n",
       "       [1., 1., 1., 1., 1., 1., 1., 1., 1., 1., 1., 1., 1., 1., 1., 1.,\n",
       "        1., 1., 1., 1.],\n",
       "       [1., 1., 1., 1., 1., 1., 1., 1., 1., 1., 1., 1., 1., 1., 1., 1.,\n",
       "        1., 1., 1., 1.],\n",
       "       [1., 1., 1., 1., 1., 1., 1., 1., 1., 1., 1., 1., 1., 1., 1., 1.,\n",
       "        1., 1., 1., 1.],\n",
       "       [1., 1., 1., 1., 1., 1., 1., 1., 1., 1., 1., 1., 1., 1., 1., 1.,\n",
       "        1., 1., 1., 1.],\n",
       "       [1., 1., 1., 1., 1., 1., 1., 1., 1., 1., 1., 1., 1., 1., 1., 1.,\n",
       "        1., 1., 1., 1.],\n",
       "       [1., 1., 1., 1., 1., 1., 1., 1., 1., 1., 1., 1., 1., 1., 1., 1.,\n",
       "        1., 1., 1., 1.],\n",
       "       [1., 1., 1., 1., 1., 1., 1., 1., 1., 1., 1., 1., 1., 1., 1., 1.,\n",
       "        1., 1., 1., 1.],\n",
       "       [1., 1., 1., 1., 1., 1., 1., 1., 1., 1., 1., 1., 1., 1., 1., 1.,\n",
       "        1., 1., 1., 1.],\n",
       "       [1., 1., 1., 1., 1., 1., 1., 1., 1., 1., 1., 1., 1., 1., 1., 1.,\n",
       "        1., 1., 1., 1.],\n",
       "       [1., 1., 1., 1., 1., 1., 1., 1., 1., 1., 1., 1., 1., 1., 1., 1.,\n",
       "        1., 1., 1., 1.],\n",
       "       [1., 1., 1., 1., 1., 1., 1., 1., 1., 1., 1., 1., 1., 1., 1., 1.,\n",
       "        1., 1., 1., 1.],\n",
       "       [1., 1., 1., 1., 1., 1., 1., 1., 1., 1., 1., 1., 1., 1., 1., 1.,\n",
       "        1., 1., 1., 1.],\n",
       "       [1., 1., 1., 1., 1., 1., 1., 1., 1., 1., 1., 1., 1., 1., 1., 1.,\n",
       "        1., 1., 1., 1.],\n",
       "       [1., 1., 1., 1., 1., 1., 1., 1., 1., 1., 1., 1., 1., 1., 7., 6.,\n",
       "        8., 9., 4., 2.],\n",
       "       [1., 1., 1., 1., 1., 1., 1., 1., 1., 1., 1., 1., 1., 1., 1., 8.,\n",
       "        6., 1., 8., 3.],\n",
       "       [1., 1., 1., 1., 1., 1., 1., 1., 1., 1., 1., 1., 1., 1., 8., 4.,\n",
       "        9., 3., 5., 6.],\n",
       "       [1., 1., 1., 1., 1., 1., 1., 1., 1., 1., 1., 1., 1., 1., 1., 0.,\n",
       "        8., 7., 6., 3.],\n",
       "       [1., 1., 1., 1., 1., 1., 1., 1., 1., 1., 1., 1., 1., 1., 1., 8.,\n",
       "        6., 9., 2., 4.],\n",
       "       [1., 1., 1., 1., 1., 1., 1., 1., 1., 1., 1., 1., 1., 1., 9., 8.,\n",
       "        5., 3., 4., 9.]])"
      ]
     },
     "execution_count": 52,
     "metadata": {},
     "output_type": "execute_result"
    }
   ],
   "source": [
    "import numpy as np\n",
    "mat1 = np.ones((20,20))\n",
    "mat1[14, 14:20] = (7,6,8,9,4,2)\n",
    "mat1[15, 15:20] = (8,6,1,8,3)\n",
    "mat1[16, 14:20] = (8,4,9,3,5,6)\n",
    "mat1[17, 15:20] = (0,8,7,6,3)\n",
    "mat1[18, 15:20] = (8,6,9,2,4) \n",
    "mat1[19, 14:20] = (9,8,5,3,4,9)\n",
    "mat1"
   ]
  },
  {
   "cell_type": "markdown",
   "id": "ff48ceeb",
   "metadata": {},
   "source": [
    "Question #02"
   ]
  },
  {
   "cell_type": "markdown",
   "id": "6d3599a7",
   "metadata": {},
   "source": [
    "Find the sum of all the values added together in the matrix produced in the previous question. It should produce 1 single value. Save the output to the variable meanAnswer and print the following sentence using an f-string\n",
    "\n",
    ">“The sum is ____.” \n",
    "\n",
    "Then, find the average of all the values in the matrix. Save the output to the variable meanAnswer and print the following answer using an f-string: \n",
    "\n",
    ">“The mean is ___.”"
   ]
  },
  {
   "cell_type": "markdown",
   "id": "ae793c48",
   "metadata": {},
   "source": [
    "Answer #02"
   ]
  },
  {
   "cell_type": "code",
   "execution_count": 54,
   "id": "9a93e599",
   "metadata": {},
   "outputs": [
    {
     "name": "stdout",
     "output_type": "stream",
     "text": [
      "The sum is 555.0.\n",
      "The mean is 1.3875.\n"
     ]
    }
   ],
   "source": [
    "meanAnswer = mat1.sum()\n",
    "print(f'The sum is {meanAnswer}.')\n",
    "meanAnswer = mat1.mean()\n",
    "print(f'The mean is {meanAnswer}.')"
   ]
  },
  {
   "cell_type": "markdown",
   "id": "0e2d4fd3",
   "metadata": {},
   "source": [
    "Question #03"
   ]
  },
  {
   "cell_type": "markdown",
   "id": "808609de",
   "metadata": {},
   "source": [
    "Create an array of values from 18 to 5000 (both inclusive) that are evenly divided in 20 increments. "
   ]
  },
  {
   "cell_type": "markdown",
   "id": "b15a8512",
   "metadata": {},
   "source": [
    "Answer #03"
   ]
  },
  {
   "cell_type": "code",
   "execution_count": 63,
   "id": "647d8713",
   "metadata": {},
   "outputs": [
    {
     "data": {
      "text/plain": [
       "array([  18.        ,  280.21052632,  542.42105263,  804.63157895,\n",
       "       1066.84210526, 1329.05263158, 1591.26315789, 1853.47368421,\n",
       "       2115.68421053, 2377.89473684, 2640.10526316, 2902.31578947,\n",
       "       3164.52631579, 3426.73684211, 3688.94736842, 3951.15789474,\n",
       "       4213.36842105, 4475.57894737, 4737.78947368, 5000.        ])"
      ]
     },
     "execution_count": 63,
     "metadata": {},
     "output_type": "execute_result"
    }
   ],
   "source": [
    "np.linspace(18,5000,20)"
   ]
  },
  {
   "cell_type": "markdown",
   "id": "29afe0d8",
   "metadata": {},
   "source": [
    "Question #04"
   ]
  },
  {
   "cell_type": "markdown",
   "id": "08701d4c",
   "metadata": {},
   "source": [
    "Create an array of values from 25 (inclusive) to 412 (exclusive) that increase by an increment of 13."
   ]
  },
  {
   "cell_type": "markdown",
   "id": "0438ee7c",
   "metadata": {},
   "source": [
    "Answer #04"
   ]
  },
  {
   "cell_type": "code",
   "execution_count": 64,
   "id": "c6f55f52",
   "metadata": {},
   "outputs": [
    {
     "data": {
      "text/plain": [
       "array([ 25,  38,  51,  64,  77,  90, 103, 116, 129, 142, 155, 168, 181,\n",
       "       194, 207, 220, 233, 246, 259, 272, 285, 298, 311, 324, 337, 350,\n",
       "       363, 376, 389, 402])"
      ]
     },
     "execution_count": 64,
     "metadata": {},
     "output_type": "execute_result"
    }
   ],
   "source": [
    "np.arange(25,412,13)"
   ]
  },
  {
   "cell_type": "markdown",
   "id": "c8c8f59c",
   "metadata": {},
   "source": [
    "Question #05"
   ]
  },
  {
   "cell_type": "markdown",
   "id": "f7dc8021",
   "metadata": {},
   "source": [
    "Design a program that performs the following task using an if/elif/else statement and chained comparison operators: \n",
    "\n",
    "You are buying tickets to the World Cup fora group of your friends. Tickets normally cost ₩150,000. However, if you buys 5 or more he gets a 10% discount. If you buys 10 or more, he gets a 15% discount. If you buys 15 or more, you get an 18% discount. \n",
    "\n",
    ">If you buy 11 tickets, how much will it cost?"
   ]
  },
  {
   "cell_type": "markdown",
   "id": "9845a351",
   "metadata": {},
   "source": [
    "Answer #05"
   ]
  },
  {
   "cell_type": "code",
   "execution_count": 118,
   "id": "b4a1151a",
   "metadata": {},
   "outputs": [
    {
     "name": "stdout",
     "output_type": "stream",
     "text": [
      "bought tickets = 11\n",
      "total cost : 1402500.0\n"
     ]
    }
   ],
   "source": [
    "tickets_price = 150000 # ₩\n",
    "bought_tickets = int(input('bought tickets = '))\n",
    "\n",
    "if 5 <= bought_tickets < 10:\n",
    "    total_cost = (tickets_price*bought_tickets)*90/100\n",
    "elif 10 <= bought_tickets < 15: \n",
    "    total_cost = (tickets_price*bought_tickets)*85/100\n",
    "elif 15 <= bought_tickets:\n",
    "    total_cost = (tickets_price*bought_tickets)*82/100\n",
    "else:\n",
    "    total_cost = (tickets_price*bought_tickets)\n",
    "print(f'total cost : {total_cost}')"
   ]
  },
  {
   "cell_type": "markdown",
   "id": "39fa3e68",
   "metadata": {},
   "source": [
    "Question #06"
   ]
  },
  {
   "cell_type": "markdown",
   "id": "90bebaae",
   "metadata": {},
   "source": [
    "Your friend from the Fairfax campus is at Mason Korea for study abroad. Your friend what the weather is. You look at your phone to check the weather and as you are about to tell them the temperature you remember that Americans uses Farenheit, not Celsius.\n",
    "\n",
    "Design a function named temperature_for_americans that performs the following task: Prompt the user to input a temperature in Celsius (google the formula). Convert the number from Celsius to Farenheit and using an if/elif/else conditional statement and print one of the following statements depending on the temperature: \n",
    "\n",
    ">If the temperature is less than 40 (inclusive), print \"Wear pants and a heavy coat\"\n",
    "\n",
    ">If the temperature is beween 40 and 70 (inclusive), print \"Wear a pants and a jacket\"\n",
    "\n",
    ">If the temperature is geater than 70, print \"Wear a t-shirt and shorts\"\n",
    "\n",
    "Assume the temperature in Songdo today is 2C. What do you tell your friend to wear?"
   ]
  },
  {
   "cell_type": "markdown",
   "id": "38d3739c",
   "metadata": {},
   "source": [
    "Answer #06"
   ]
  },
  {
   "cell_type": "code",
   "execution_count": 97,
   "id": "fff133cb",
   "metadata": {},
   "outputs": [
    {
     "name": "stdout",
     "output_type": "stream",
     "text": [
      "Celcius Temperature : 2\n",
      "Wear pants and a heavy coat\n"
     ]
    }
   ],
   "source": [
    "def temperature_for_americans(Celcius = float(input('Celcius Temperature : '))):\n",
    "    Farenheit =  (Celcius * (9/5)) + 32\n",
    "    if Farenheit < 40:\n",
    "        print(\"Wear pants and a heavy coat\")\n",
    "    elif 40 <= Farenheit <=70:\n",
    "        print(\"Wear a pants and a jacket\")\n",
    "    else:\n",
    "        print(\"Wear a t-shirt and shorts\")\n",
    "temperature_for_americans()"
   ]
  },
  {
   "cell_type": "markdown",
   "id": "6983f223",
   "metadata": {},
   "source": [
    "Question #07"
   ]
  },
  {
   "cell_type": "markdown",
   "id": "73931946",
   "metadata": {},
   "source": [
    "You are in your Fairfax year at GMU. You go out to eat at a restaurant with your new American friends. At the end of the meal, they remind you that in the states you must tip your server on top of your bill. You regret ordering something expensive. \n",
    "\n",
    "Design a program that performs the following task: Prompt the user to enter their bill total. Save this value to a variable as a float. Use a nested if statement to compute the total bill using the following rules:\n",
    "\n",
    ">If the server did an excellent job and the food was amazing: tip 35%\n",
    "\n",
    ">If the server did an excellent job and the food was good: tip 30%\n",
    "\n",
    ">If the server did an excellent job and the food was ok: tip 25%\n",
    "\n",
    ">If the server did an excellent job and the food was bad: tip 18%\n",
    "\n",
    ">If the server did good job and the food was amazing: tip 22%\n",
    "\n",
    ">If the server did a good job and the food was good: tip 20%\n",
    "\n",
    ">If the server did a good job and the food was ok: tip 18%\n",
    "\n",
    ">If the server did a good job and the food was bad: tip 15%\n",
    "\n",
    ">If the server did a bad job and the food was amazing: tip 18%\n",
    "\n",
    ">If the server did a bad job and the food was good: tip 15%\n",
    "\n",
    ">If the server did a bad job and the food was ok: tip 10%\n",
    "\n",
    ">If the server did a bad job and the food was bad: tip 5%\n",
    "\n",
    "Assume your server did an bad job, the food was amazing, and the bill was $83.74. What is your total?"
   ]
  },
  {
   "cell_type": "markdown",
   "id": "1b037624",
   "metadata": {},
   "source": [
    "Answer #07"
   ]
  },
  {
   "cell_type": "code",
   "execution_count": 102,
   "id": "c0cc177a",
   "metadata": {},
   "outputs": [
    {
     "name": "stdout",
     "output_type": "stream",
     "text": [
      "server satisfaction : bad\n",
      "food satisfaction: amazing\n",
      "bill : 83.74\n",
      "total = 98.8132\n"
     ]
    }
   ],
   "source": [
    "server = input('server satisfaction : ' )\n",
    "food = input('food satisfaction: ')\n",
    "bill = float(input('bill : ')) # $\n",
    "if server == 'excellent': \n",
    "    if food == 'amazing':\n",
    "        total = bill + bill * (35/100)\n",
    "    elif food == 'good':\n",
    "        total = bill + bill * (30/100)\n",
    "    elif food == 'ok':\n",
    "        total = bill + bill * (25/100)\n",
    "    elif food == 'bad':\n",
    "        total = bill + bill * (18/100)\n",
    "elif server == 'good': \n",
    "    if food == 'amazing':\n",
    "        total = bill + bill * (22/100)\n",
    "    elif food == 'good':\n",
    "        total = bill + bill * (20/100)\n",
    "    elif food == 'ok':\n",
    "        total = bill + bill * (18/100)\n",
    "    elif food == 'bad':\n",
    "        total = bill + bill * (15/100)\n",
    "elif server == 'bad': \n",
    "    if food == 'amazing':\n",
    "        total = bill + bill * (18/100)\n",
    "    if food == 'good':\n",
    "        total = bill + bill * (15/100)\n",
    "    if food == 'ok':\n",
    "        total = bill + bill * (10/100)\n",
    "    if food == 'bad':\n",
    "        total = bill + bill * (5/100)   \n",
    "print(f\"total = {total}\") # $"
   ]
  },
  {
   "cell_type": "markdown",
   "id": "38668d94",
   "metadata": {},
   "source": [
    "Question #08"
   ]
  },
  {
   "cell_type": "markdown",
   "id": "3f3fd8f1",
   "metadata": {},
   "source": [
    "It is winter break and you are staying with your family. You come home from a night out with your friends from your hometown and you are hungry. You are craving a grilled cheese sandwich, ramen with egg, spam fried rice, cereal, and cheese tteokbokki (in that order). You go to the refrigerator to see what you can cook. Your parents do a better job of stocking the fridge than you do at your dorm. You have the following ingredients: rice, cheese, kimchi, ramen, spam, cereal, bread, oil, and milk. What will you cook?\n",
    "\n",
    "Considering the following recipes, design a program using an if/elif/else conditional statement that will print out the name of the item that you will cook. If you do not have the ingredients necessary to make these dishes, print the statement \"I can't cook anything\"\n",
    "\n",
    ">cereal: cereal, milk\n",
    "\n",
    ">ramen with egg: ramen, eggs\n",
    "\n",
    ">grilled cheese: bread, cheese, butter\n",
    "\n",
    ">spam fried rice: rice, eggs, oil, spam\n",
    "\n",
    ">cheese tteokbokki: cheese, tteokbokki"
   ]
  },
  {
   "cell_type": "markdown",
   "id": "3080e2ab",
   "metadata": {},
   "source": [
    "Answer #08"
   ]
  },
  {
   "cell_type": "code",
   "execution_count": 107,
   "id": "2f970aeb",
   "metadata": {},
   "outputs": [
    {
     "name": "stdout",
     "output_type": "stream",
     "text": [
      "cereal\n"
     ]
    }
   ],
   "source": [
    "ingredients = ['rice', 'cheese', 'kimchi', 'ramen', 'spam', 'cereal', 'bread', 'oil', 'milk']\n",
    "if 'cereal' in ingredients and 'milk' in ingredients:\n",
    "    print(\"cereal\")\n",
    "elif 'ramen' in ingredients and 'eggs' in ingredients:\n",
    "    print(\"ramen with eggs\")\n",
    "elif 'bread' in ingredients and 'cheese' in ingredients and 'butter' in ingredients:\n",
    "    print(\"grilled cheese\")\n",
    "elif 'rice' in ingredients and 'eggs' in ingredients and 'oil' in ingredients and 'spam' in ingredients:\n",
    "    print(\"spam fried rice\")\n",
    "elif 'cheese' in ingredients and 'tteokbokki' in ingredients:\n",
    "    print(\"cheese tteokbokki\")"
   ]
  },
  {
   "cell_type": "markdown",
   "id": "3a46293c",
   "metadata": {},
   "source": [
    "Question #09"
   ]
  },
  {
   "cell_type": "markdown",
   "id": "9e4b426c",
   "metadata": {},
   "source": [
    "Design a program that utilizes a for loop in combination with the range() function to display all the numbers between 0 (inclusive) and 1234 (inclusive) that are divisible by 13."
   ]
  },
  {
   "cell_type": "markdown",
   "id": "4fa4415b",
   "metadata": {},
   "source": [
    "Answer #09"
   ]
  },
  {
   "cell_type": "code",
   "execution_count": 113,
   "id": "e120e197",
   "metadata": {},
   "outputs": [
    {
     "name": "stdout",
     "output_type": "stream",
     "text": [
      "0\n",
      "13\n",
      "26\n",
      "39\n",
      "52\n",
      "65\n",
      "78\n",
      "91\n",
      "104\n",
      "117\n",
      "130\n",
      "143\n",
      "156\n",
      "169\n",
      "182\n",
      "195\n",
      "208\n",
      "221\n",
      "234\n",
      "247\n",
      "260\n",
      "273\n",
      "286\n",
      "299\n",
      "312\n",
      "325\n",
      "338\n",
      "351\n",
      "364\n",
      "377\n",
      "390\n",
      "403\n",
      "416\n",
      "429\n",
      "442\n",
      "455\n",
      "468\n",
      "481\n",
      "494\n",
      "507\n",
      "520\n",
      "533\n",
      "546\n",
      "559\n",
      "572\n",
      "585\n",
      "598\n",
      "611\n",
      "624\n",
      "637\n",
      "650\n",
      "663\n",
      "676\n",
      "689\n",
      "702\n",
      "715\n",
      "728\n",
      "741\n",
      "754\n",
      "767\n",
      "780\n",
      "793\n",
      "806\n",
      "819\n",
      "832\n",
      "845\n",
      "858\n",
      "871\n",
      "884\n",
      "897\n",
      "910\n",
      "923\n",
      "936\n",
      "949\n",
      "962\n",
      "975\n",
      "988\n",
      "1001\n",
      "1014\n",
      "1027\n",
      "1040\n",
      "1053\n",
      "1066\n",
      "1079\n",
      "1092\n",
      "1105\n",
      "1118\n",
      "1131\n",
      "1144\n",
      "1157\n",
      "1170\n",
      "1183\n",
      "1196\n",
      "1209\n",
      "1222\n"
     ]
    }
   ],
   "source": [
    "import math\n",
    "for num in range (0,1235,1):\n",
    "    if num%13 == 0:\n",
    "        print(num)"
   ]
  },
  {
   "cell_type": "markdown",
   "id": "6ae5c0f3",
   "metadata": {},
   "source": [
    "Question #10"
   ]
  },
  {
   "cell_type": "markdown",
   "id": "fb4a8d83",
   "metadata": {},
   "source": [
    "Design a program that asks a user to input a whole number. The value should be saved to a variable of the integer data type. Then, insert that value into a while loop and multiply it by 17 until the value is less than or equal to or less than 6,725.\n",
    "\n",
    "The user should enter the value 13."
   ]
  },
  {
   "cell_type": "markdown",
   "id": "d623e272",
   "metadata": {},
   "source": [
    "Answer #10"
   ]
  },
  {
   "cell_type": "code",
   "execution_count": 117,
   "id": "b23631b1",
   "metadata": {},
   "outputs": [
    {
     "name": "stdout",
     "output_type": "stream",
     "text": [
      "13\n",
      "63869\n"
     ]
    }
   ],
   "source": [
    "value = int(input())\n",
    "while value < 6725:\n",
    "    value*=17\n",
    "print(value)"
   ]
  },
  {
   "cell_type": "markdown",
   "id": "17064840",
   "metadata": {},
   "source": [
    "Question #11"
   ]
  },
  {
   "cell_type": "markdown",
   "id": "be21c7c9",
   "metadata": {},
   "source": [
    "Design a program that prompts the user to enter their password. Save this input to a variable. Give the user 10 attempts to enter the correct password. The password is your first name and is NOT case-sensitive.\n",
    "\n",
    "If the user enters an incorrect password, print the message \"Incorrect.\t___ attempts remain.\" Where the program displays the number of remaining possible attempts.\n",
    "\n",
    "After the tenth incorrect attempt, print the message \"Incorrect. ___ attempts remain. Maximum login attempts exceeded.\" Where\tshould display 0.\n",
    "\n",
    "Execute the program with 10 incorrect attempts.\n"
   ]
  },
  {
   "cell_type": "markdown",
   "id": "81ec304e",
   "metadata": {},
   "source": [
    "Answer #11"
   ]
  },
  {
   "cell_type": "code",
   "execution_count": 22,
   "id": "d8a0ba04",
   "metadata": {},
   "outputs": [
    {
     "name": "stdout",
     "output_type": "stream",
     "text": [
      "user password = ross\n",
      "Incorrect. 9attempts remain.\n",
      "user password = rachel\n",
      "Incorrect. 8attempts remain.\n",
      "user password = joe\n",
      "Incorrect. 7attempts remain.\n",
      "user password = chandler\n",
      "Incorrect. 6attempts remain.\n",
      "user password = monica\n",
      "Incorrect. 5attempts remain.\n",
      "user password = pheobe\n",
      "Incorrect. 4attempts remain.\n",
      "user password = antman\n",
      "Incorrect. 3attempts remain.\n",
      "user password = mickey\n",
      "Incorrect. 2attempts remain.\n",
      "user password = haon\n",
      "Incorrect. 1attempts remain.\n",
      "user password = juyoung\n",
      "Incorrect. 0attempts remain. Maximum login attempts exceeded\n"
     ]
    }
   ],
   "source": [
    "password = input('user password = ').lower()\n",
    "count = 1\n",
    "while count<10:    \n",
    "    if password != 'ryan':\n",
    "        print(f'Incorrect. {10 - count}attempts remain.')\n",
    "        password = input('user password = ').lower()\n",
    "        count+=1\n",
    "print(f\"Incorrect. {10 - count}attempts remain. Maximum login attempts exceeded\")"
   ]
  },
  {
   "cell_type": "markdown",
   "id": "5455313a",
   "metadata": {},
   "source": [
    "#### Question #12"
   ]
  },
  {
   "cell_type": "markdown",
   "id": "4275f3c1",
   "metadata": {},
   "source": [
    "Write a function named centimeters_to_feet that converts length from centimeters into feet. \n",
    "\n",
    "The function should accept one argument, centimeters, and return the f-string \"There are _______  feet in ______ centimeters\" with the appropriate values.\n",
    "\n",
    "After you've created the function pass, in 365 centimeters as the argument.\n",
    "\n",
    ">There are 2.54 centimeters in 1 inch\n",
    "\n",
    ">There are 12 inches in 1 foot"
   ]
  },
  {
   "cell_type": "markdown",
   "id": "7418832b",
   "metadata": {},
   "source": [
    "Answer #13"
   ]
  },
  {
   "cell_type": "code",
   "execution_count": 29,
   "id": "fc18475f",
   "metadata": {},
   "outputs": [
    {
     "name": "stdout",
     "output_type": "stream",
     "text": [
      "There are 11.9750656167979feet in 365centimeters\n"
     ]
    }
   ],
   "source": [
    "def centimeters_to_feet(centimeters):\n",
    "    print(f'There are {centimeters*100/254/12}feet in {centimeters}centimeters')\n",
    "centimeters_to_feet(365)"
   ]
  },
  {
   "cell_type": "markdown",
   "id": "f0abc6d1",
   "metadata": {},
   "source": [
    "Question #14"
   ]
  },
  {
   "cell_type": "markdown",
   "id": "7660b8d9",
   "metadata": {},
   "source": [
    "Write a lambda function that performs the reverse calculation as in the previous question and converts feet into centimeters.\n",
    "\n",
    "Save the lambda function to the variable ft2cm. Then, pass 6 feet into the lambda function as an argument."
   ]
  },
  {
   "cell_type": "markdown",
   "id": "959f35e2",
   "metadata": {},
   "source": [
    "Answer #14"
   ]
  },
  {
   "cell_type": "code",
   "execution_count": 30,
   "id": "b940b84a",
   "metadata": {},
   "outputs": [
    {
     "data": {
      "text/plain": [
       "182.88"
      ]
     },
     "execution_count": 30,
     "metadata": {},
     "output_type": "execute_result"
    }
   ],
   "source": [
    "ft2cm = lambda ft: ft*30.48\n",
    "ft2cm(6)"
   ]
  },
  {
   "cell_type": "markdown",
   "id": "d1f9ce87",
   "metadata": {},
   "source": [
    "Question #15"
   ]
  },
  {
   "cell_type": "markdown",
   "id": "05c8cfe5",
   "metadata": {},
   "source": [
    "A patient is in the hospital for weight loss surgery. A dietician at the hospital assesses the patient for weight loss surgery. As part of their evaluation, they assess a patient's typical diet and calculate the average macronutrient and caloric intake by evaluating the amount of fat, protein, carbohydrates, and alcohol they consume (in grams). They calculate the number of calories using the following information:\n",
    "\n",
    ">1 gram of fat is 9 calories\n",
    "\n",
    ">1 gram of carbohydrate is 4 calories\n",
    "\n",
    ">1 gram of protein is 4 calories\n",
    "\n",
    ">1 gram of alcohol is 7 calories. \n",
    "\n",
    "Write a single function named calories that will make all of these calculations by taking in the parameters of each macronutrient and returning an f-string with the number of grams of each macronutrient consumed in a day, the number of calories from each macronutrient consumed in a day, and the total number of calories consumed in a day. \n",
    "\n",
    "Assume the typical diet for a patient is the following: \n",
    "\n",
    ">Breakfast\n",
    "\n",
    ">>Starbucks Latte: 7g fat, 19g carbohydrates, 13g protein\n",
    "\n",
    ">>Starbucks Double-Smoked Bacon, Cheddar & Egg Sandwich: 27g protein, 43g carbohydrates, 21g protein\n",
    "\n",
    ">Lunch\n",
    "\n",
    ">>Big Mac Meal Combo Meal: \n",
    "\n",
    ">>>Big Mach Sandwich: 33g fat, 44g carbohydrates, 26g protein\n",
    "\n",
    ">>>French Fries: 23g fat, 65g carbohydrates, 7g protein\n",
    "\n",
    ">>>Soda: 0g fat, 80g carbohydrates, 0g protein\n",
    "\n",
    ">Snack\n",
    "\n",
    ">>1 small salad: 7g fat, 4g carbohydrates, 2g protein\n",
    "\n",
    ">>1 beer: 0g fat, 13g carbohydrates, 2g protein, 14g alcohol\n",
    "\n",
    ">Dinner\n",
    "\n",
    ">>1 large Pizza Hut sausage pepperoni pizza: 161g fat, 262g carbohydrates, 137g protein\n",
    "\n",
    ">>1 bottle of red wine: 0g fat, 20g carbohydrates, 0.5g protein, 75g alcohol\n",
    "\n",
    ">>1 chocolate chip cookie: 7g fat, 20g carbohydrates, 2g protein\n",
    "\n",
    "(Hint: calculate the total number of each macronutrient, save it to a variable, then pass it into the function as an argument)."
   ]
  },
  {
   "cell_type": "markdown",
   "id": "dcea0292",
   "metadata": {},
   "source": [
    "Answer #15"
   ]
  },
  {
   "cell_type": "code",
   "execution_count": 11,
   "id": "77a68e28",
   "metadata": {},
   "outputs": [
    {
     "name": "stdout",
     "output_type": "stream",
     "text": [
      "total fat consumed in one day: 238g\n",
      "total carbohydrate consumed in one day: 490g\n",
      "total protein consumed in one day: 237.5g\n",
      "total alcohol consumed in one day: 89g\n",
      "total calories of fat consumed in one day: 2142calories\n",
      "total calories of carbohydrate consumed in one day: 1960calories\n",
      "total calories of protein consumed in one day: 950.0calories\n",
      "total calories of alcohol consumed in one day: 623calories\n",
      "total calories consumed in one day: 5675.0\n"
     ]
    }
   ],
   "source": [
    "total_fat = 238\n",
    "total_carbohydrate = 490\n",
    "total_protein = 237.5\n",
    "total_alcohol = 89\n",
    "def calories(total_fat, total_carbohydrate, total_protein, total_alcohol):\n",
    "    print(f\"total fat consumed in one day: {total_fat}g\")\n",
    "    print(f\"total carbohydrate consumed in one day: {total_carbohydrate}g\")\n",
    "    print(f\"total protein consumed in one day: {total_protein}g\")\n",
    "    print(f\"total alcohol consumed in one day: {total_alcohol}g\")\n",
    "    print(f\"total calories of fat consumed in one day: {total_fat*9}calories\")\n",
    "    print(f\"total calories of carbohydrate consumed in one day: {total_carbohydrate*4}calories\")\n",
    "    print(f\"total calories of protein consumed in one day: {total_protein*4}calories\")\n",
    "    print(f\"total calories of alcohol consumed in one day: {total_alcohol*7}calories\")\n",
    "    print(f\"total calories consumed in one day: {(total_fat*9)+(total_carbohydrate*4)+(total_protein*4)+(total_alcohol*7)}\")\n",
    "calories(total_fat, total_carbohydrate, total_protein, total_alcohol)  \n"
   ]
  },
  {
   "cell_type": "markdown",
   "id": "f149a70a",
   "metadata": {},
   "source": [
    "Question #16"
   ]
  },
  {
   "cell_type": "markdown",
   "id": "813d4fbc",
   "metadata": {},
   "source": [
    "Write a class named Employee that holds the following data about an employee in attributes: name, ID, department, job title. \n",
    "\n",
    "Once you have written the class, write a program that creates three Employee objects to hold the following data: \n",
    "\n",
    "> Name: Richard Simmons, ID: 97164, Department: Accounting, Job title: Associate Accountant\n",
    "\n",
    "> Name: Paula Abdul, ID: 39119, Department: IT, Job Title: Tech Support\n",
    "\n",
    "> Name: Joy Behar, ID: 81774, Department: Manufacturing, Job title: Engineer\n",
    "\n",
    "The program should store this data in three objects and then display the string representation for each employee on the screen. "
   ]
  },
  {
   "cell_type": "markdown",
   "id": "4c1e5f8b",
   "metadata": {},
   "source": [
    "Answer #16"
   ]
  },
  {
   "cell_type": "code",
   "execution_count": 40,
   "id": "7bad95aa",
   "metadata": {},
   "outputs": [
    {
     "name": "stdout",
     "output_type": "stream",
     "text": [
      "Name: Richard Simmons, ID: 97164, Department: Accounting, Job Title: Associate Accountant\n",
      "Name: Paula Abdul, ID: 39119, Department: IT, Job Title: Tech Support\n",
      "Name: Joy Behar, ID: 81774, Department: Manufacturing, Job Title: Engineer\n"
     ]
    }
   ],
   "source": [
    "class Employee():\n",
    "    def __init__(self, name, ID, department, job_title):\n",
    "        self.name = name\n",
    "        self.ID = ID\n",
    "        self.department = department\n",
    "        self.job_title = job_title\n",
    "        \n",
    "    def __str__(self):\n",
    "        return f\"Name: {self.name}, ID: {self.ID}, Department: {self.department}, Job Title: {self.job_title}\"\n",
    "Richard_Simmons = Employee('Richard Simmons', 97164, 'Accounting', 'Associate Accountant')\n",
    "Paula_Abdul = Employee('Paula Abdul', 39119, 'IT', 'Tech Support')\n",
    "Joy_Behar = Employee('Joy Behar', 81774, 'Manufacturing', 'Engineer')\n",
    "print(Richard_Simmons)\n",
    "print(Paula_Abdul)\n",
    "print(Joy_Behar)"
   ]
  },
  {
   "cell_type": "markdown",
   "id": "4cc61ff4",
   "metadata": {},
   "source": [
    "Search on the internet for a data set of your choice for the following exercises. Do NOT use the same data set you used in your group project or previous homework assignments. "
   ]
  },
  {
   "cell_type": "markdown",
   "id": "59d2815c",
   "metadata": {},
   "source": [
    "Question #17"
   ]
  },
  {
   "cell_type": "markdown",
   "id": "b80aca1c",
   "metadata": {},
   "source": [
    "Display the information contained in your dataset. More specifically, display the datatypes of each column/variable. Then, display the first 10 and last 10 observations of your DataFrame. Finally, determine the number of values and dimensions attributes of your imported DataFrame."
   ]
  },
  {
   "cell_type": "markdown",
   "id": "61aad5b3",
   "metadata": {},
   "source": [
    "Answer #17"
   ]
  },
  {
   "cell_type": "code",
   "execution_count": 82,
   "id": "5f274e84",
   "metadata": {},
   "outputs": [
    {
     "name": "stdout",
     "output_type": "stream",
     "text": [
      "<class 'pandas.core.frame.DataFrame'>\n",
      "RangeIndex: 7273 entries, 0 to 7272\n",
      "Data columns (total 35 columns):\n",
      " #   Column                                Non-Null Count  Dtype  \n",
      "---  ------                                --------------  -----  \n",
      " 0   country                               7273 non-null   object \n",
      " 1   code                                  6206 non-null   object \n",
      " 2   year                                  7273 non-null   int64  \n",
      " 3   meningitis                            6840 non-null   float64\n",
      " 4   alzheimer's_disease                   6840 non-null   float64\n",
      " 5   parkinson's_disease                   6840 non-null   float64\n",
      " 6   nutritional_deficiency                6840 non-null   float64\n",
      " 7   malaria                               6840 non-null   float64\n",
      " 8   drowning                              6840 non-null   float64\n",
      " 9   interpersonal_violence                6840 non-null   float64\n",
      " 10  maternal_disorders                    6840 non-null   float64\n",
      " 11  hiv/aids                              6840 non-null   float64\n",
      " 12  drug_use_disorders                    6840 non-null   float64\n",
      " 13  tuberculosis                          6840 non-null   float64\n",
      " 14  cardiovascular_diseases               6840 non-null   float64\n",
      " 15  lower_respiratory_infections          6840 non-null   float64\n",
      " 16  neonatal_disorders                    6840 non-null   float64\n",
      " 17  alcohol_use_disorders                 6840 non-null   float64\n",
      " 18  self_harm                             6840 non-null   float64\n",
      " 19  exposure_to_forces_of_nature          6840 non-null   float64\n",
      " 20  diarrheal_diseases                    6840 non-null   float64\n",
      " 21  environmental_heat_and_cold_exposure  6840 non-null   float64\n",
      " 22  neoplasms                             6840 non-null   float64\n",
      " 23  conflict_and_terrorism                6840 non-null   float64\n",
      " 24  diabetes_mellitus                     6840 non-null   float64\n",
      " 25  chronic_kidney_disease                6840 non-null   float64\n",
      " 26  poisonings                            6840 non-null   float64\n",
      " 27  protein_energy_malnutrition           6840 non-null   float64\n",
      " 28  terrorism                             2891 non-null   float64\n",
      " 29  road_injuries                         6840 non-null   float64\n",
      " 30  chronic_respiratory_diseases          6840 non-null   float64\n",
      " 31  chronic_liver_diseases                6840 non-null   float64\n",
      " 32  digestive_diseases                    6840 non-null   float64\n",
      " 33  fire_heat_hot_substance               6840 non-null   float64\n",
      " 34  acute_hepatitis                       6840 non-null   float64\n",
      "dtypes: float64(32), int64(1), object(2)\n",
      "memory usage: 1.9+ MB\n"
     ]
    }
   ],
   "source": [
    "import pandas as pd\n",
    "dataset = pd.read_csv(r\"C:\\Users\\Sojeung\\Desktop\\annual_deaths_by_causes.csv\")\n",
    "dataset.info()"
   ]
  },
  {
   "cell_type": "code",
   "execution_count": 83,
   "id": "0675edf6",
   "metadata": {
    "scrolled": false
   },
   "outputs": [
    {
     "name": "stdout",
     "output_type": "stream",
     "text": [
      "       country code  year  meningitis  alzheimer's_disease  \\\n",
      "0  Afghanistan  AFG  2007      2933.0               1402.0   \n",
      "1  Afghanistan  AFG  2008      2731.0               1424.0   \n",
      "2  Afghanistan  AFG  2009      2460.0               1449.0   \n",
      "3  Afghanistan  AFG  2011      2327.0               1508.0   \n",
      "4  Afghanistan  AFG  2012      2254.0               1544.0   \n",
      "5  Afghanistan  AFG  2013      2281.0               1581.0   \n",
      "6  Afghanistan  AFG  2014      1935.0               1620.0   \n",
      "7  Afghanistan  AFG  2015      1821.0               1652.0   \n",
      "8  Afghanistan  AFG  2016      1795.0               1690.0   \n",
      "9  Afghanistan  AFG  1990      2159.0               1116.0   \n",
      "\n",
      "   parkinson's_disease  nutritional_deficiency  malaria  drowning  \\\n",
      "0                450.0                  2488.0    393.0    2127.0   \n",
      "1                455.0                  2277.0    255.0    1973.0   \n",
      "2                460.0                  2040.0    239.0    1852.0   \n",
      "3                473.0                  1846.0    390.0    1775.0   \n",
      "4                482.0                  1705.0     94.0    1716.0   \n",
      "5                491.0                  1690.0    143.0    1777.0   \n",
      "6                502.0                  1617.0    228.0    1757.0   \n",
      "7                511.0                  1505.0    284.0    1730.0   \n",
      "8                524.0                  1452.0    388.0    1742.0   \n",
      "9                371.0                  2087.0     93.0    1370.0   \n",
      "\n",
      "   interpersonal_violence  ...  chronic_kidney_disease  poisonings  \\\n",
      "0                  3657.0  ...                  4490.0       512.0   \n",
      "1                  3785.0  ...                  4534.0       495.0   \n",
      "2                  3874.0  ...                  4597.0       483.0   \n",
      "3                  4170.0  ...                  4785.0       483.0   \n",
      "4                  4245.0  ...                  4846.0       482.0   \n",
      "5                  4379.0  ...                  4945.0       494.0   \n",
      "6                  4420.0  ...                  5055.0       496.0   \n",
      "7                  5039.0  ...                  5153.0       496.0   \n",
      "8                  5033.0  ...                  5296.0       504.0   \n",
      "9                  1538.0  ...                  3709.0       338.0   \n",
      "\n",
      "   protein_energy_malnutrition  terrorism  road_injuries  \\\n",
      "0                       2439.0     1199.0         7425.0   \n",
      "1                       2231.0     1092.0         7355.0   \n",
      "2                       1998.0     1065.0         7290.0   \n",
      "3                       1805.0     1525.0         7432.0   \n",
      "4                       1667.0     3521.0         7494.0   \n",
      "5                       1651.0     3709.0         8054.0   \n",
      "6                       1579.0     5414.0         8087.0   \n",
      "7                       1469.0     6216.0         7730.0   \n",
      "8                       1416.0     6142.0         7866.0   \n",
      "9                       2054.0       12.0         4154.0   \n",
      "\n",
      "   chronic_respiratory_diseases  chronic_liver_diseases  digestive_diseases  \\\n",
      "0                        7222.0                  3346.0              6458.0   \n",
      "1                        7143.0                  3316.0              6408.0   \n",
      "2                        7045.0                  3291.0              6358.0   \n",
      "3                        6916.0                  3318.0              6370.0   \n",
      "4                        6878.0                  3353.0              6398.0   \n",
      "5                        6859.0                  3413.0              6476.0   \n",
      "6                        6851.0                  3454.0              6522.0   \n",
      "7                        6835.0                  3492.0              6555.0   \n",
      "8                        6894.0                  3578.0              6673.0   \n",
      "9                        5945.0                  2673.0              5005.0   \n",
      "\n",
      "   fire_heat_hot_substance  acute_hepatitis  \n",
      "0                    481.0           3437.0  \n",
      "1                    462.0           3005.0  \n",
      "2                    448.0           2663.0  \n",
      "3                    448.0           2365.0  \n",
      "4                    445.0           2264.0  \n",
      "5                    460.0           2204.0  \n",
      "6                    463.0           2134.0  \n",
      "7                    463.0           2065.0  \n",
      "8                    471.0           2044.0  \n",
      "9                    323.0           2985.0  \n",
      "\n",
      "[10 rows x 35 columns]\n",
      "       country code  year  meningitis  alzheimer's_disease  \\\n",
      "7263  Zimbabwe  ZWE  2010      1768.0                723.0   \n",
      "7264  Zimbabwe  ZWE  2011      1803.0                722.0   \n",
      "7265  Zimbabwe  ZWE  2012      1586.0                724.0   \n",
      "7266  Zimbabwe  ZWE  2013      1448.0                731.0   \n",
      "7267  Zimbabwe  ZWE  2014      1422.0                741.0   \n",
      "7268  Zimbabwe  ZWE  2015      1439.0                754.0   \n",
      "7269  Zimbabwe  ZWE  2016      1457.0                767.0   \n",
      "7270  Zimbabwe  ZWE  2017      1460.0                781.0   \n",
      "7271  Zimbabwe  ZWE  2018      1450.0                795.0   \n",
      "7272  Zimbabwe  ZWE  2019      1450.0                812.0   \n",
      "\n",
      "      parkinson's_disease  nutritional_deficiency  malaria  drowning  \\\n",
      "7263                214.0                  2764.0   4546.0     712.0   \n",
      "7264                211.0                  3013.0   3479.0     743.0   \n",
      "7265                209.0                  3095.0   2763.0     754.0   \n",
      "7266                209.0                  3017.0   3544.0     732.0   \n",
      "7267                212.0                  2977.0   3685.0     734.0   \n",
      "7268                215.0                  3019.0   2518.0     770.0   \n",
      "7269                219.0                  3056.0   2050.0     801.0   \n",
      "7270                223.0                  2990.0   2116.0     818.0   \n",
      "7271                227.0                  2918.0   2088.0     825.0   \n",
      "7272                232.0                  2884.0   2068.0     827.0   \n",
      "\n",
      "      interpersonal_violence  ...  chronic_kidney_disease  poisonings  \\\n",
      "7263                  1211.0  ...                  2006.0       343.0   \n",
      "7264                  1222.0  ...                  1998.0       358.0   \n",
      "7265                  1243.0  ...                  2004.0       366.0   \n",
      "7266                  1241.0  ...                  2013.0       362.0   \n",
      "7267                  1257.0  ...                  2057.0       367.0   \n",
      "7268                  1302.0  ...                  2108.0       381.0   \n",
      "7269                  1342.0  ...                  2160.0       393.0   \n",
      "7270                  1363.0  ...                  2196.0       398.0   \n",
      "7271                  1396.0  ...                  2240.0       400.0   \n",
      "7272                  1434.0  ...                  2292.0       405.0   \n",
      "\n",
      "      protein_energy_malnutrition  terrorism  road_injuries  \\\n",
      "7263                       2734.0        1.0         2335.0   \n",
      "7264                       2983.0        0.0         2335.0   \n",
      "7265                       3065.0        NaN         2328.0   \n",
      "7266                       2987.0        1.0         2289.0   \n",
      "7267                       2948.0        0.0         2302.0   \n",
      "7268                       2990.0        NaN         2373.0   \n",
      "7269                       3027.0        NaN         2436.0   \n",
      "7270                       2962.0        0.0         2473.0   \n",
      "7271                       2890.0        NaN         2509.0   \n",
      "7272                       2855.0        NaN         2554.0   \n",
      "\n",
      "      chronic_respiratory_diseases  chronic_liver_diseases  \\\n",
      "7263                        2743.0                  2135.0   \n",
      "7264                        2721.0                  2062.0   \n",
      "7265                        2708.0                  2011.0   \n",
      "7266                        2693.0                  1964.0   \n",
      "7267                        2715.0                  1952.0   \n",
      "7268                        2751.0                  1956.0   \n",
      "7269                        2788.0                  1962.0   \n",
      "7270                        2818.0                  2007.0   \n",
      "7271                        2849.0                  2030.0   \n",
      "7272                        2891.0                  2065.0   \n",
      "\n",
      "      digestive_diseases  fire_heat_hot_substance  acute_hepatitis  \n",
      "7263              4152.0                    601.0            148.0  \n",
      "7264              4136.0                    615.0            152.0  \n",
      "7265              4132.0                    622.0            152.0  \n",
      "7266              4107.0                    612.0            148.0  \n",
      "7267              4138.0                    615.0            146.0  \n",
      "7268              4202.0                    632.0            146.0  \n",
      "7269              4264.0                    648.0            146.0  \n",
      "7270              4342.0                    654.0            144.0  \n",
      "7271              4377.0                    657.0            139.0  \n",
      "7272              4437.0                    662.0            136.0  \n",
      "\n",
      "[10 rows x 35 columns]\n"
     ]
    }
   ],
   "source": [
    "print(dataset[0:10]) \n",
    "print(dataset[7263:7273])"
   ]
  },
  {
   "cell_type": "code",
   "execution_count": 84,
   "id": "320063d8",
   "metadata": {},
   "outputs": [
    {
     "data": {
      "text/plain": [
       "country                                 7273\n",
       "code                                    6206\n",
       "year                                    7273\n",
       "meningitis                              6840\n",
       "alzheimer's_disease                     6840\n",
       "parkinson's_disease                     6840\n",
       "nutritional_deficiency                  6840\n",
       "malaria                                 6840\n",
       "drowning                                6840\n",
       "interpersonal_violence                  6840\n",
       "maternal_disorders                      6840\n",
       "hiv/aids                                6840\n",
       "drug_use_disorders                      6840\n",
       "tuberculosis                            6840\n",
       "cardiovascular_diseases                 6840\n",
       "lower_respiratory_infections            6840\n",
       "neonatal_disorders                      6840\n",
       "alcohol_use_disorders                   6840\n",
       "self_harm                               6840\n",
       "exposure_to_forces_of_nature            6840\n",
       "diarrheal_diseases                      6840\n",
       "environmental_heat_and_cold_exposure    6840\n",
       "neoplasms                               6840\n",
       "conflict_and_terrorism                  6840\n",
       "diabetes_mellitus                       6840\n",
       "chronic_kidney_disease                  6840\n",
       "poisonings                              6840\n",
       "protein_energy_malnutrition             6840\n",
       "terrorism                               2891\n",
       "road_injuries                           6840\n",
       "chronic_respiratory_diseases            6840\n",
       "chronic_liver_diseases                  6840\n",
       "digestive_diseases                      6840\n",
       "fire_heat_hot_substance                 6840\n",
       "acute_hepatitis                         6840\n",
       "dtype: int64"
      ]
     },
     "execution_count": 84,
     "metadata": {},
     "output_type": "execute_result"
    }
   ],
   "source": [
    "dataset.count(axis=0, level=None, numeric_only=False)"
   ]
  },
  {
   "cell_type": "code",
   "execution_count": 85,
   "id": "a7fd36e6",
   "metadata": {},
   "outputs": [
    {
     "data": {
      "text/plain": [
       "(7273, 35)"
      ]
     },
     "execution_count": 85,
     "metadata": {},
     "output_type": "execute_result"
    }
   ],
   "source": [
    "dataset.shape"
   ]
  },
  {
   "cell_type": "markdown",
   "id": "5633e808",
   "metadata": {},
   "source": [
    "Question #18"
   ]
  },
  {
   "cell_type": "markdown",
   "id": "79cdcd5f",
   "metadata": {},
   "source": [
    "Filter down your DataFrame to only the rows and columns of information you find to be necessary. Save it to a variable. Then, display a random sample and the descriptive statistics of the output DataFrame. "
   ]
  },
  {
   "cell_type": "markdown",
   "id": "7e83514a",
   "metadata": {},
   "source": [
    "Answer #18"
   ]
  },
  {
   "cell_type": "code",
   "execution_count": 88,
   "id": "8dc2d6db",
   "metadata": {
    "scrolled": false
   },
   "outputs": [
    {
     "data": {
      "text/html": [
       "<div>\n",
       "<style scoped>\n",
       "    .dataframe tbody tr th:only-of-type {\n",
       "        vertical-align: middle;\n",
       "    }\n",
       "\n",
       "    .dataframe tbody tr th {\n",
       "        vertical-align: top;\n",
       "    }\n",
       "\n",
       "    .dataframe thead th {\n",
       "        text-align: right;\n",
       "    }\n",
       "</style>\n",
       "<table border=\"1\" class=\"dataframe\">\n",
       "  <thead>\n",
       "    <tr style=\"text-align: right;\">\n",
       "      <th></th>\n",
       "      <th>year</th>\n",
       "      <th>country</th>\n",
       "      <th>alzheimer's_disease</th>\n",
       "      <th>nutritional_deficiency</th>\n",
       "      <th>interpersonal_violence</th>\n",
       "      <th>cardiovascular_diseases</th>\n",
       "      <th>cardiovascular_diseases</th>\n",
       "      <th>drug_use_disorders</th>\n",
       "    </tr>\n",
       "  </thead>\n",
       "  <tbody>\n",
       "    <tr>\n",
       "      <th>5808</th>\n",
       "      <td>1990</td>\n",
       "      <td>South Korea</td>\n",
       "      <td>3364.0</td>\n",
       "      <td>445.0</td>\n",
       "      <td>808.0</td>\n",
       "      <td>85939.0</td>\n",
       "      <td>85939.0</td>\n",
       "      <td>82.0</td>\n",
       "    </tr>\n",
       "    <tr>\n",
       "      <th>5809</th>\n",
       "      <td>1991</td>\n",
       "      <td>South Korea</td>\n",
       "      <td>3641.0</td>\n",
       "      <td>426.0</td>\n",
       "      <td>824.0</td>\n",
       "      <td>84659.0</td>\n",
       "      <td>84659.0</td>\n",
       "      <td>92.0</td>\n",
       "    </tr>\n",
       "    <tr>\n",
       "      <th>5810</th>\n",
       "      <td>1992</td>\n",
       "      <td>South Korea</td>\n",
       "      <td>3877.0</td>\n",
       "      <td>398.0</td>\n",
       "      <td>848.0</td>\n",
       "      <td>81357.0</td>\n",
       "      <td>81357.0</td>\n",
       "      <td>103.0</td>\n",
       "    </tr>\n",
       "    <tr>\n",
       "      <th>5811</th>\n",
       "      <td>1993</td>\n",
       "      <td>South Korea</td>\n",
       "      <td>4121.0</td>\n",
       "      <td>395.0</td>\n",
       "      <td>867.0</td>\n",
       "      <td>78767.0</td>\n",
       "      <td>78767.0</td>\n",
       "      <td>117.0</td>\n",
       "    </tr>\n",
       "    <tr>\n",
       "      <th>5812</th>\n",
       "      <td>1994</td>\n",
       "      <td>South Korea</td>\n",
       "      <td>4349.0</td>\n",
       "      <td>403.0</td>\n",
       "      <td>912.0</td>\n",
       "      <td>77232.0</td>\n",
       "      <td>77232.0</td>\n",
       "      <td>147.0</td>\n",
       "    </tr>\n",
       "    <tr>\n",
       "      <th>5813</th>\n",
       "      <td>1995</td>\n",
       "      <td>South Korea</td>\n",
       "      <td>4593.0</td>\n",
       "      <td>428.0</td>\n",
       "      <td>938.0</td>\n",
       "      <td>74093.0</td>\n",
       "      <td>74093.0</td>\n",
       "      <td>199.0</td>\n",
       "    </tr>\n",
       "    <tr>\n",
       "      <th>5814</th>\n",
       "      <td>1996</td>\n",
       "      <td>South Korea</td>\n",
       "      <td>4871.0</td>\n",
       "      <td>451.0</td>\n",
       "      <td>980.0</td>\n",
       "      <td>71855.0</td>\n",
       "      <td>71855.0</td>\n",
       "      <td>230.0</td>\n",
       "    </tr>\n",
       "    <tr>\n",
       "      <th>5815</th>\n",
       "      <td>1997</td>\n",
       "      <td>South Korea</td>\n",
       "      <td>5128.0</td>\n",
       "      <td>484.0</td>\n",
       "      <td>1035.0</td>\n",
       "      <td>70779.0</td>\n",
       "      <td>70779.0</td>\n",
       "      <td>247.0</td>\n",
       "    </tr>\n",
       "    <tr>\n",
       "      <th>5816</th>\n",
       "      <td>1998</td>\n",
       "      <td>South Korea</td>\n",
       "      <td>5397.0</td>\n",
       "      <td>524.0</td>\n",
       "      <td>1097.0</td>\n",
       "      <td>70511.0</td>\n",
       "      <td>70511.0</td>\n",
       "      <td>257.0</td>\n",
       "    </tr>\n",
       "    <tr>\n",
       "      <th>5817</th>\n",
       "      <td>1999</td>\n",
       "      <td>South Korea</td>\n",
       "      <td>5648.0</td>\n",
       "      <td>522.0</td>\n",
       "      <td>1137.0</td>\n",
       "      <td>70348.0</td>\n",
       "      <td>70348.0</td>\n",
       "      <td>236.0</td>\n",
       "    </tr>\n",
       "    <tr>\n",
       "      <th>5818</th>\n",
       "      <td>2000</td>\n",
       "      <td>South Korea</td>\n",
       "      <td>5930.0</td>\n",
       "      <td>479.0</td>\n",
       "      <td>1188.0</td>\n",
       "      <td>69474.0</td>\n",
       "      <td>69474.0</td>\n",
       "      <td>197.0</td>\n",
       "    </tr>\n",
       "    <tr>\n",
       "      <th>5819</th>\n",
       "      <td>2001</td>\n",
       "      <td>South Korea</td>\n",
       "      <td>6298.0</td>\n",
       "      <td>415.0</td>\n",
       "      <td>1227.0</td>\n",
       "      <td>68127.0</td>\n",
       "      <td>68127.0</td>\n",
       "      <td>169.0</td>\n",
       "    </tr>\n",
       "    <tr>\n",
       "      <th>5820</th>\n",
       "      <td>2002</td>\n",
       "      <td>South Korea</td>\n",
       "      <td>6740.0</td>\n",
       "      <td>355.0</td>\n",
       "      <td>1246.0</td>\n",
       "      <td>67951.0</td>\n",
       "      <td>67951.0</td>\n",
       "      <td>148.0</td>\n",
       "    </tr>\n",
       "    <tr>\n",
       "      <th>5821</th>\n",
       "      <td>2003</td>\n",
       "      <td>South Korea</td>\n",
       "      <td>7223.0</td>\n",
       "      <td>311.0</td>\n",
       "      <td>1264.0</td>\n",
       "      <td>67501.0</td>\n",
       "      <td>67501.0</td>\n",
       "      <td>134.0</td>\n",
       "    </tr>\n",
       "    <tr>\n",
       "      <th>5822</th>\n",
       "      <td>2004</td>\n",
       "      <td>South Korea</td>\n",
       "      <td>7671.0</td>\n",
       "      <td>274.0</td>\n",
       "      <td>1277.0</td>\n",
       "      <td>66414.0</td>\n",
       "      <td>66414.0</td>\n",
       "      <td>123.0</td>\n",
       "    </tr>\n",
       "    <tr>\n",
       "      <th>5823</th>\n",
       "      <td>2005</td>\n",
       "      <td>South Korea</td>\n",
       "      <td>8181.0</td>\n",
       "      <td>249.0</td>\n",
       "      <td>1256.0</td>\n",
       "      <td>65433.0</td>\n",
       "      <td>65433.0</td>\n",
       "      <td>114.0</td>\n",
       "    </tr>\n",
       "    <tr>\n",
       "      <th>5824</th>\n",
       "      <td>2006</td>\n",
       "      <td>South Korea</td>\n",
       "      <td>8716.0</td>\n",
       "      <td>227.0</td>\n",
       "      <td>1227.0</td>\n",
       "      <td>64089.0</td>\n",
       "      <td>64089.0</td>\n",
       "      <td>105.0</td>\n",
       "    </tr>\n",
       "    <tr>\n",
       "      <th>5825</th>\n",
       "      <td>2007</td>\n",
       "      <td>South Korea</td>\n",
       "      <td>9338.0</td>\n",
       "      <td>219.0</td>\n",
       "      <td>1187.0</td>\n",
       "      <td>63078.0</td>\n",
       "      <td>63078.0</td>\n",
       "      <td>99.0</td>\n",
       "    </tr>\n",
       "    <tr>\n",
       "      <th>5826</th>\n",
       "      <td>2008</td>\n",
       "      <td>South Korea</td>\n",
       "      <td>9963.0</td>\n",
       "      <td>213.0</td>\n",
       "      <td>1134.0</td>\n",
       "      <td>61699.0</td>\n",
       "      <td>61699.0</td>\n",
       "      <td>95.0</td>\n",
       "    </tr>\n",
       "    <tr>\n",
       "      <th>5827</th>\n",
       "      <td>2009</td>\n",
       "      <td>South Korea</td>\n",
       "      <td>10586.0</td>\n",
       "      <td>207.0</td>\n",
       "      <td>1073.0</td>\n",
       "      <td>60867.0</td>\n",
       "      <td>60867.0</td>\n",
       "      <td>97.0</td>\n",
       "    </tr>\n",
       "    <tr>\n",
       "      <th>5828</th>\n",
       "      <td>2010</td>\n",
       "      <td>South Korea</td>\n",
       "      <td>11276.0</td>\n",
       "      <td>207.0</td>\n",
       "      <td>1014.0</td>\n",
       "      <td>61041.0</td>\n",
       "      <td>61041.0</td>\n",
       "      <td>97.0</td>\n",
       "    </tr>\n",
       "    <tr>\n",
       "      <th>5829</th>\n",
       "      <td>2011</td>\n",
       "      <td>South Korea</td>\n",
       "      <td>11972.0</td>\n",
       "      <td>211.0</td>\n",
       "      <td>949.0</td>\n",
       "      <td>61418.0</td>\n",
       "      <td>61418.0</td>\n",
       "      <td>96.0</td>\n",
       "    </tr>\n",
       "    <tr>\n",
       "      <th>5830</th>\n",
       "      <td>2012</td>\n",
       "      <td>South Korea</td>\n",
       "      <td>12696.0</td>\n",
       "      <td>219.0</td>\n",
       "      <td>891.0</td>\n",
       "      <td>62289.0</td>\n",
       "      <td>62289.0</td>\n",
       "      <td>99.0</td>\n",
       "    </tr>\n",
       "    <tr>\n",
       "      <th>5831</th>\n",
       "      <td>2013</td>\n",
       "      <td>South Korea</td>\n",
       "      <td>13286.0</td>\n",
       "      <td>224.0</td>\n",
       "      <td>843.0</td>\n",
       "      <td>62210.0</td>\n",
       "      <td>62210.0</td>\n",
       "      <td>101.0</td>\n",
       "    </tr>\n",
       "    <tr>\n",
       "      <th>5832</th>\n",
       "      <td>2014</td>\n",
       "      <td>South Korea</td>\n",
       "      <td>13947.0</td>\n",
       "      <td>231.0</td>\n",
       "      <td>796.0</td>\n",
       "      <td>62372.0</td>\n",
       "      <td>62372.0</td>\n",
       "      <td>102.0</td>\n",
       "    </tr>\n",
       "    <tr>\n",
       "      <th>5833</th>\n",
       "      <td>2015</td>\n",
       "      <td>South Korea</td>\n",
       "      <td>14730.0</td>\n",
       "      <td>246.0</td>\n",
       "      <td>761.0</td>\n",
       "      <td>63793.0</td>\n",
       "      <td>63793.0</td>\n",
       "      <td>105.0</td>\n",
       "    </tr>\n",
       "    <tr>\n",
       "      <th>5834</th>\n",
       "      <td>2016</td>\n",
       "      <td>South Korea</td>\n",
       "      <td>15620.0</td>\n",
       "      <td>261.0</td>\n",
       "      <td>737.0</td>\n",
       "      <td>65446.0</td>\n",
       "      <td>65446.0</td>\n",
       "      <td>109.0</td>\n",
       "    </tr>\n",
       "    <tr>\n",
       "      <th>5835</th>\n",
       "      <td>2017</td>\n",
       "      <td>South Korea</td>\n",
       "      <td>16679.0</td>\n",
       "      <td>280.0</td>\n",
       "      <td>738.0</td>\n",
       "      <td>69427.0</td>\n",
       "      <td>69427.0</td>\n",
       "      <td>108.0</td>\n",
       "    </tr>\n",
       "    <tr>\n",
       "      <th>5836</th>\n",
       "      <td>2018</td>\n",
       "      <td>South Korea</td>\n",
       "      <td>17569.0</td>\n",
       "      <td>297.0</td>\n",
       "      <td>741.0</td>\n",
       "      <td>72918.0</td>\n",
       "      <td>72918.0</td>\n",
       "      <td>114.0</td>\n",
       "    </tr>\n",
       "    <tr>\n",
       "      <th>5837</th>\n",
       "      <td>2019</td>\n",
       "      <td>South Korea</td>\n",
       "      <td>18451.0</td>\n",
       "      <td>318.0</td>\n",
       "      <td>746.0</td>\n",
       "      <td>77481.0</td>\n",
       "      <td>77481.0</td>\n",
       "      <td>119.0</td>\n",
       "    </tr>\n",
       "  </tbody>\n",
       "</table>\n",
       "</div>"
      ],
      "text/plain": [
       "      year      country  alzheimer's_disease  nutritional_deficiency  \\\n",
       "5808  1990  South Korea               3364.0                   445.0   \n",
       "5809  1991  South Korea               3641.0                   426.0   \n",
       "5810  1992  South Korea               3877.0                   398.0   \n",
       "5811  1993  South Korea               4121.0                   395.0   \n",
       "5812  1994  South Korea               4349.0                   403.0   \n",
       "5813  1995  South Korea               4593.0                   428.0   \n",
       "5814  1996  South Korea               4871.0                   451.0   \n",
       "5815  1997  South Korea               5128.0                   484.0   \n",
       "5816  1998  South Korea               5397.0                   524.0   \n",
       "5817  1999  South Korea               5648.0                   522.0   \n",
       "5818  2000  South Korea               5930.0                   479.0   \n",
       "5819  2001  South Korea               6298.0                   415.0   \n",
       "5820  2002  South Korea               6740.0                   355.0   \n",
       "5821  2003  South Korea               7223.0                   311.0   \n",
       "5822  2004  South Korea               7671.0                   274.0   \n",
       "5823  2005  South Korea               8181.0                   249.0   \n",
       "5824  2006  South Korea               8716.0                   227.0   \n",
       "5825  2007  South Korea               9338.0                   219.0   \n",
       "5826  2008  South Korea               9963.0                   213.0   \n",
       "5827  2009  South Korea              10586.0                   207.0   \n",
       "5828  2010  South Korea              11276.0                   207.0   \n",
       "5829  2011  South Korea              11972.0                   211.0   \n",
       "5830  2012  South Korea              12696.0                   219.0   \n",
       "5831  2013  South Korea              13286.0                   224.0   \n",
       "5832  2014  South Korea              13947.0                   231.0   \n",
       "5833  2015  South Korea              14730.0                   246.0   \n",
       "5834  2016  South Korea              15620.0                   261.0   \n",
       "5835  2017  South Korea              16679.0                   280.0   \n",
       "5836  2018  South Korea              17569.0                   297.0   \n",
       "5837  2019  South Korea              18451.0                   318.0   \n",
       "\n",
       "      interpersonal_violence  cardiovascular_diseases  \\\n",
       "5808                   808.0                  85939.0   \n",
       "5809                   824.0                  84659.0   \n",
       "5810                   848.0                  81357.0   \n",
       "5811                   867.0                  78767.0   \n",
       "5812                   912.0                  77232.0   \n",
       "5813                   938.0                  74093.0   \n",
       "5814                   980.0                  71855.0   \n",
       "5815                  1035.0                  70779.0   \n",
       "5816                  1097.0                  70511.0   \n",
       "5817                  1137.0                  70348.0   \n",
       "5818                  1188.0                  69474.0   \n",
       "5819                  1227.0                  68127.0   \n",
       "5820                  1246.0                  67951.0   \n",
       "5821                  1264.0                  67501.0   \n",
       "5822                  1277.0                  66414.0   \n",
       "5823                  1256.0                  65433.0   \n",
       "5824                  1227.0                  64089.0   \n",
       "5825                  1187.0                  63078.0   \n",
       "5826                  1134.0                  61699.0   \n",
       "5827                  1073.0                  60867.0   \n",
       "5828                  1014.0                  61041.0   \n",
       "5829                   949.0                  61418.0   \n",
       "5830                   891.0                  62289.0   \n",
       "5831                   843.0                  62210.0   \n",
       "5832                   796.0                  62372.0   \n",
       "5833                   761.0                  63793.0   \n",
       "5834                   737.0                  65446.0   \n",
       "5835                   738.0                  69427.0   \n",
       "5836                   741.0                  72918.0   \n",
       "5837                   746.0                  77481.0   \n",
       "\n",
       "      cardiovascular_diseases  drug_use_disorders  \n",
       "5808                  85939.0                82.0  \n",
       "5809                  84659.0                92.0  \n",
       "5810                  81357.0               103.0  \n",
       "5811                  78767.0               117.0  \n",
       "5812                  77232.0               147.0  \n",
       "5813                  74093.0               199.0  \n",
       "5814                  71855.0               230.0  \n",
       "5815                  70779.0               247.0  \n",
       "5816                  70511.0               257.0  \n",
       "5817                  70348.0               236.0  \n",
       "5818                  69474.0               197.0  \n",
       "5819                  68127.0               169.0  \n",
       "5820                  67951.0               148.0  \n",
       "5821                  67501.0               134.0  \n",
       "5822                  66414.0               123.0  \n",
       "5823                  65433.0               114.0  \n",
       "5824                  64089.0               105.0  \n",
       "5825                  63078.0                99.0  \n",
       "5826                  61699.0                95.0  \n",
       "5827                  60867.0                97.0  \n",
       "5828                  61041.0                97.0  \n",
       "5829                  61418.0                96.0  \n",
       "5830                  62289.0                99.0  \n",
       "5831                  62210.0               101.0  \n",
       "5832                  62372.0               102.0  \n",
       "5833                  63793.0               105.0  \n",
       "5834                  65446.0               109.0  \n",
       "5835                  69427.0               108.0  \n",
       "5836                  72918.0               114.0  \n",
       "5837                  77481.0               119.0  "
      ]
     },
     "execution_count": 88,
     "metadata": {},
     "output_type": "execute_result"
    }
   ],
   "source": [
    "dataset_filtered = dataset[[\"year\", \"country\", \"alzheimer's_disease\",\n",
    "\"nutritional_deficiency\",\n",
    "\"interpersonal_violence\",\n",
    "\"cardiovascular_diseases\",\n",
    "\"cardiovascular_diseases\",\n",
    "\"drug_use_disorders\"]]\n",
    "dataset_filtered2 = (dataset_filtered[dataset_filtered[\"country\"] == \"South Korea\"]) \n",
    "dataset_filtered2"
   ]
  },
  {
   "cell_type": "code",
   "execution_count": 127,
   "id": "b8176c6b",
   "metadata": {},
   "outputs": [
    {
     "data": {
      "text/html": [
       "<div>\n",
       "<style scoped>\n",
       "    .dataframe tbody tr th:only-of-type {\n",
       "        vertical-align: middle;\n",
       "    }\n",
       "\n",
       "    .dataframe tbody tr th {\n",
       "        vertical-align: top;\n",
       "    }\n",
       "\n",
       "    .dataframe thead th {\n",
       "        text-align: right;\n",
       "    }\n",
       "</style>\n",
       "<table border=\"1\" class=\"dataframe\">\n",
       "  <thead>\n",
       "    <tr style=\"text-align: right;\">\n",
       "      <th></th>\n",
       "      <th>drug_use_disorders</th>\n",
       "    </tr>\n",
       "  </thead>\n",
       "  <tbody>\n",
       "    <tr>\n",
       "      <th>0</th>\n",
       "      <td>252.0</td>\n",
       "    </tr>\n",
       "    <tr>\n",
       "      <th>1</th>\n",
       "      <td>261.0</td>\n",
       "    </tr>\n",
       "    <tr>\n",
       "      <th>2</th>\n",
       "      <td>270.0</td>\n",
       "    </tr>\n",
       "    <tr>\n",
       "      <th>3</th>\n",
       "      <td>292.0</td>\n",
       "    </tr>\n",
       "    <tr>\n",
       "      <th>4</th>\n",
       "      <td>305.0</td>\n",
       "    </tr>\n",
       "    <tr>\n",
       "      <th>...</th>\n",
       "      <td>...</td>\n",
       "    </tr>\n",
       "    <tr>\n",
       "      <th>7268</th>\n",
       "      <td>104.0</td>\n",
       "    </tr>\n",
       "    <tr>\n",
       "      <th>7269</th>\n",
       "      <td>110.0</td>\n",
       "    </tr>\n",
       "    <tr>\n",
       "      <th>7270</th>\n",
       "      <td>115.0</td>\n",
       "    </tr>\n",
       "    <tr>\n",
       "      <th>7271</th>\n",
       "      <td>121.0</td>\n",
       "    </tr>\n",
       "    <tr>\n",
       "      <th>7272</th>\n",
       "      <td>127.0</td>\n",
       "    </tr>\n",
       "  </tbody>\n",
       "</table>\n",
       "<p>7273 rows × 1 columns</p>\n",
       "</div>"
      ],
      "text/plain": [
       "      drug_use_disorders\n",
       "0                  252.0\n",
       "1                  261.0\n",
       "2                  270.0\n",
       "3                  292.0\n",
       "4                  305.0\n",
       "...                  ...\n",
       "7268               104.0\n",
       "7269               110.0\n",
       "7270               115.0\n",
       "7271               121.0\n",
       "7272               127.0\n",
       "\n",
       "[7273 rows x 1 columns]"
      ]
     },
     "execution_count": 127,
     "metadata": {},
     "output_type": "execute_result"
    }
   ],
   "source": [
    "randomly_sampled_dataset = dataset_filtered.sample(axis='columns')\n",
    "randomly_sampled_dataset"
   ]
  },
  {
   "cell_type": "code",
   "execution_count": 128,
   "id": "f1651069",
   "metadata": {},
   "outputs": [
    {
     "data": {
      "text/html": [
       "<div>\n",
       "<style scoped>\n",
       "    .dataframe tbody tr th:only-of-type {\n",
       "        vertical-align: middle;\n",
       "    }\n",
       "\n",
       "    .dataframe tbody tr th {\n",
       "        vertical-align: top;\n",
       "    }\n",
       "\n",
       "    .dataframe thead th {\n",
       "        text-align: right;\n",
       "    }\n",
       "</style>\n",
       "<table border=\"1\" class=\"dataframe\">\n",
       "  <thead>\n",
       "    <tr style=\"text-align: right;\">\n",
       "      <th></th>\n",
       "      <th>year</th>\n",
       "      <th>alzheimer's_disease</th>\n",
       "      <th>nutritional_deficiency</th>\n",
       "      <th>interpersonal_violence</th>\n",
       "      <th>cardiovascular_diseases</th>\n",
       "      <th>cardiovascular_diseases</th>\n",
       "      <th>drug_use_disorders</th>\n",
       "    </tr>\n",
       "  </thead>\n",
       "  <tbody>\n",
       "    <tr>\n",
       "      <th>count</th>\n",
       "      <td>7273.000000</td>\n",
       "      <td>6.840000e+03</td>\n",
       "      <td>6840.000000</td>\n",
       "      <td>6840.000000</td>\n",
       "      <td>6.840000e+03</td>\n",
       "      <td>6.840000e+03</td>\n",
       "      <td>6840.00000</td>\n",
       "    </tr>\n",
       "    <tr>\n",
       "      <th>mean</th>\n",
       "      <td>2004.425134</td>\n",
       "      <td>2.736319e+04</td>\n",
       "      <td>11006.353947</td>\n",
       "      <td>10636.648684</td>\n",
       "      <td>3.910080e+05</td>\n",
       "      <td>3.910080e+05</td>\n",
       "      <td>2449.07076</td>\n",
       "    </tr>\n",
       "    <tr>\n",
       "      <th>std</th>\n",
       "      <td>8.623572</td>\n",
       "      <td>1.113146e+05</td>\n",
       "      <td>48289.687100</td>\n",
       "      <td>40888.793762</td>\n",
       "      <td>1.508195e+06</td>\n",
       "      <td>1.508195e+06</td>\n",
       "      <td>10384.17195</td>\n",
       "    </tr>\n",
       "    <tr>\n",
       "      <th>min</th>\n",
       "      <td>1990.000000</td>\n",
       "      <td>0.000000e+00</td>\n",
       "      <td>0.000000</td>\n",
       "      <td>0.000000</td>\n",
       "      <td>4.000000e+00</td>\n",
       "      <td>4.000000e+00</td>\n",
       "      <td>0.00000</td>\n",
       "    </tr>\n",
       "    <tr>\n",
       "      <th>25%</th>\n",
       "      <td>1997.000000</td>\n",
       "      <td>1.287500e+02</td>\n",
       "      <td>11.000000</td>\n",
       "      <td>48.000000</td>\n",
       "      <td>2.888250e+03</td>\n",
       "      <td>2.888250e+03</td>\n",
       "      <td>5.00000</td>\n",
       "    </tr>\n",
       "    <tr>\n",
       "      <th>50%</th>\n",
       "      <td>2004.000000</td>\n",
       "      <td>8.455000e+02</td>\n",
       "      <td>159.000000</td>\n",
       "      <td>342.000000</td>\n",
       "      <td>1.492500e+04</td>\n",
       "      <td>1.492500e+04</td>\n",
       "      <td>31.00000</td>\n",
       "    </tr>\n",
       "    <tr>\n",
       "      <th>75%</th>\n",
       "      <td>2012.000000</td>\n",
       "      <td>4.251000e+03</td>\n",
       "      <td>2204.000000</td>\n",
       "      <td>1391.250000</td>\n",
       "      <td>6.747550e+04</td>\n",
       "      <td>6.747550e+04</td>\n",
       "      <td>206.00000</td>\n",
       "    </tr>\n",
       "    <tr>\n",
       "      <th>max</th>\n",
       "      <td>2019.000000</td>\n",
       "      <td>1.623276e+06</td>\n",
       "      <td>757152.000000</td>\n",
       "      <td>463129.000000</td>\n",
       "      <td>1.856251e+07</td>\n",
       "      <td>1.856251e+07</td>\n",
       "      <td>128083.00000</td>\n",
       "    </tr>\n",
       "  </tbody>\n",
       "</table>\n",
       "</div>"
      ],
      "text/plain": [
       "              year  alzheimer's_disease  nutritional_deficiency  \\\n",
       "count  7273.000000         6.840000e+03             6840.000000   \n",
       "mean   2004.425134         2.736319e+04            11006.353947   \n",
       "std       8.623572         1.113146e+05            48289.687100   \n",
       "min    1990.000000         0.000000e+00                0.000000   \n",
       "25%    1997.000000         1.287500e+02               11.000000   \n",
       "50%    2004.000000         8.455000e+02              159.000000   \n",
       "75%    2012.000000         4.251000e+03             2204.000000   \n",
       "max    2019.000000         1.623276e+06           757152.000000   \n",
       "\n",
       "       interpersonal_violence  cardiovascular_diseases  \\\n",
       "count             6840.000000             6.840000e+03   \n",
       "mean             10636.648684             3.910080e+05   \n",
       "std              40888.793762             1.508195e+06   \n",
       "min                  0.000000             4.000000e+00   \n",
       "25%                 48.000000             2.888250e+03   \n",
       "50%                342.000000             1.492500e+04   \n",
       "75%               1391.250000             6.747550e+04   \n",
       "max             463129.000000             1.856251e+07   \n",
       "\n",
       "       cardiovascular_diseases  drug_use_disorders  \n",
       "count             6.840000e+03          6840.00000  \n",
       "mean              3.910080e+05          2449.07076  \n",
       "std               1.508195e+06         10384.17195  \n",
       "min               4.000000e+00             0.00000  \n",
       "25%               2.888250e+03             5.00000  \n",
       "50%               1.492500e+04            31.00000  \n",
       "75%               6.747550e+04           206.00000  \n",
       "max               1.856251e+07        128083.00000  "
      ]
     },
     "execution_count": 128,
     "metadata": {},
     "output_type": "execute_result"
    }
   ],
   "source": [
    "dataset_filtered.describe()"
   ]
  },
  {
   "cell_type": "markdown",
   "id": "4c349717",
   "metadata": {},
   "source": [
    "Question #19"
   ]
  },
  {
   "cell_type": "markdown",
   "id": "8f4a4580",
   "metadata": {},
   "source": [
    "Create 5 visualizations from your dataset and explain what they display."
   ]
  },
  {
   "cell_type": "code",
   "execution_count": 129,
   "id": "02e96a01",
   "metadata": {},
   "outputs": [
    {
     "data": {
      "text/plain": [
       "Text(0.5, 0, \"alzheimer's disease\")"
      ]
     },
     "execution_count": 129,
     "metadata": {},
     "output_type": "execute_result"
    },
    {
     "data": {
      "image/png": "[encoded data removed]",
      "text/plain": [
       "<Figure size 432x288 with 1 Axes>"
      ]
     },
     "metadata": {
      "needs_background": "light"
     },
     "output_type": "display_data"
    }
   ],
   "source": [
    "histogram_dataset_filtered2 = dataset_filtered2[\"alzheimer's_disease\"].plot.hist(bins=30, title = \"Histogram of alzeheimer's disease\")\n",
    "histogram_dataset_filtered2.set_xlabel(\"alzheimer's disease\")"
   ]
  },
  {
   "cell_type": "markdown",
   "id": "9469c419",
   "metadata": {},
   "source": [
    "This Histogram displays the freuquency of the variable \"alzehimer's_disease\""
   ]
  },
  {
   "cell_type": "code",
   "execution_count": 130,
   "id": "b3334b10",
   "metadata": {},
   "outputs": [
    {
     "data": {
      "text/plain": [
       "Text(0, 0.5, \"alzheimer's_disease\")"
      ]
     },
     "execution_count": 130,
     "metadata": {},
     "output_type": "execute_result"
    },
    {
     "data": {
      "image/png": "[encoded data removed]",
      "text/plain": [
       "<Figure size 864x216 with 1 Axes>"
      ]
     },
     "metadata": {
      "needs_background": "light"
     },
     "output_type": "display_data"
    }
   ],
   "source": [
    "line_graph =dataset_filtered2.plot.line(y = \"alzheimer's_disease\", x='year', figsize=(12,3), lw=1, title = \"Death cuase of alzehimer's disease by year\")\n",
    "line_graph.set_xlabel('year')\n",
    "line_graph.set_ylabel(\"alzheimer's_disease\")\n"
   ]
  },
  {
   "cell_type": "markdown",
   "id": "1c135c02",
   "metadata": {},
   "source": [
    "This line graph represents the changes of the numbers of death caued by the alzehimer's disease over the year from 1990 to 2020."
   ]
  },
  {
   "cell_type": "code",
   "execution_count": 131,
   "id": "f4a8fe4a",
   "metadata": {},
   "outputs": [
    {
     "data": {
      "text/plain": [
       "Text(0, 0.5, 'death counts')"
      ]
     },
     "execution_count": 131,
     "metadata": {},
     "output_type": "execute_result"
    },
    {
     "data": {
      "image/png": "[encoded data removed]",
      "text/plain": [
       "<Figure size 432x288 with 1 Axes>"
      ]
     },
     "metadata": {
      "needs_background": "light"
     },
     "output_type": "display_data"
    }
   ],
   "source": [
    "area_dataset_filtered2 =dataset_filtered2.plot.area(alpha=0.4, x='year', title = 'Area graph of death causes in Korea')\n",
    "area_dataset_filtered2.set_xlabel('year')\n",
    "area_dataset_filtered2.set_ylabel(\"death counts\")\n",
    "                      \n"
   ]
  },
  {
   "cell_type": "markdown",
   "id": "dd60f278",
   "metadata": {},
   "source": [
    "This is an Area graph of the toal death counts divided by death cause."
   ]
  },
  {
   "cell_type": "code",
   "execution_count": 132,
   "id": "b8bca163",
   "metadata": {},
   "outputs": [
    {
     "data": {
      "text/plain": [
       "Text(0, 0.5, 'death counts')"
      ]
     },
     "execution_count": 132,
     "metadata": {},
     "output_type": "execute_result"
    },
    {
     "data": {
      "image/png": "[encoded data removed]",
      "text/plain": [
       "<Figure size 432x288 with 1 Axes>"
      ]
     },
     "metadata": {
      "needs_background": "light"
     },
     "output_type": "display_data"
    }
   ],
   "source": [
    "bar_dataset_filtered2 = dataset_filtered2.plot.bar(title = 'Bar graph of death caused by drug use disorder by year', x ='year', y = 'drug_use_disorders')\n",
    "bar_dataset_filtered2.set_xlabel('year')\n",
    "bar_dataset_filtered2.set_ylabel('death counts')"
   ]
  },
  {
   "cell_type": "markdown",
   "id": "eecbdda3",
   "metadata": {},
   "source": [
    "This is a bar plot of the numbers of death caused by drug use disorders over from 1990 to 2019."
   ]
  },
  {
   "cell_type": "code",
   "execution_count": 133,
   "id": "8e925dd4",
   "metadata": {},
   "outputs": [
    {
     "data": {
      "text/plain": [
       "Text(0, 0.5, 'nutritional_deficiency')"
      ]
     },
     "execution_count": 133,
     "metadata": {},
     "output_type": "execute_result"
    },
    {
     "data": {
      "image/png": "[encoded data removed]",
      "text/plain": [
       "<Figure size 432x288 with 1 Axes>"
      ]
     },
     "metadata": {
      "needs_background": "light"
     },
     "output_type": "display_data"
    }
   ],
   "source": [
    "scatterplot_dataset_filtered2 = dataset_filtered2.plot.scatter(x = 'year', y='nutritional_deficiency', title = 'scatterplot of numbers of death caused by nutritional deficiency over years')\n",
    "scatterplot_dataset_filtered2.set_xlabel('year')\n",
    "scatterplot_dataset_filtered2.set_ylabel('nutritional_deficiency')"
   ]
  },
  {
   "cell_type": "markdown",
   "id": "635f770a",
   "metadata": {},
   "source": [
    "Here is a graph of scatter plot of the numbers of death caused by the nutritional deficiency from 1990 to 2020."
   ]
  }
 ],
 "metadata": {
  "kernelspec": {
   "display_name": "Python 3 (ipykernel)",
   "language": "python",
   "name": "python3"
  },
  "language_info": {
   "codemirror_mode": {
    "name": "ipython",
    "version": 3
   },
   "file_extension": ".py",
   "mimetype": "text/x-python",
   "name": "python",
   "nbconvert_exporter": "python",
   "pygments_lexer": "ipython3",
   "version": "3.9.12"
  }
 },
 "nbformat": 4,
 "nbformat_minor": 5
}
